{
  "nbformat": 4,
  "nbformat_minor": 0,
  "metadata": {
    "colab": {
      "provenance": [],
      "authorship_tag": "ABX9TyOHeKVbujHIU51OCSXZBygW",
      "include_colab_link": true
    },
    "kernelspec": {
      "name": "python3",
      "display_name": "Python 3"
    },
    "language_info": {
      "name": "python"
    }
  },
  "cells": [
    {
      "cell_type": "markdown",
      "metadata": {
        "id": "view-in-github",
        "colab_type": "text"
      },
      "source": [
        "<a href=\"https://colab.research.google.com/github/Aarthi1122/TNSDC_Generative-AI/blob/main/chatbot_for_e_commerce_website.ipynb\" target=\"_parent\"><img src=\"https://colab.research.google.com/assets/colab-badge.svg\" alt=\"Open In Colab\"/></a>"
      ]
    },
    {
      "cell_type": "code",
      "execution_count": null,
      "metadata": {
        "colab": {
          "base_uri": "https://localhost:8080/"
        },
        "id": "fZFQvz3rgOBR",
        "outputId": "bf7e274b-6c03-4fde-94df-22d59f4629b0"
      },
      "outputs": [
        {
          "output_type": "stream",
          "name": "stdout",
          "text": [
            "You: hello flipkart\n",
            "Bot: Hi there! How can I help you today?\n",
            "You: i want to make an order\n",
            "Bot: select the product!\n",
            "You: order\n",
            "Bot: Your order is currently processing.\n",
            "You: thank you\n",
            "Bot: You're welcome!\n",
            "You: hiiiii\n",
            "Bot: I'm sorry, I didn't understand that.\n"
          ]
        }
      ],
      "source": [
        "def simple_chatbot(user_message):\n",
        "    user_message = user_message.lower()\n",
        "    if user_message == \"hello flipkart\":\n",
        "        return \"Hi there! How can I help you today?\"\n",
        "    elif user_message == \"i want to make an order\":\n",
        "        return \"select the product!\"\n",
        "    elif user_message == \"order\":\n",
        "        return \"Your order is currently processing.\"\n",
        "    elif  user_message == \"thank you\":\n",
        "        return \"You're welcome!\"\n",
        "    else:\n",
        "        return \"I'm sorry, I didn't understand that.\"\n",
        "\n",
        "# Example usage:\n",
        "while True:\n",
        "    message = input(\"You: \")\n",
        "    response = simple_chatbot(message)\n",
        "    print(\"Bot:\", response)\n",
        "\n",
        ""
      ]
    }
  ]
}